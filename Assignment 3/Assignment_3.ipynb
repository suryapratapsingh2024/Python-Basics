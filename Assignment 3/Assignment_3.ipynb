{
 "cells": [
  {
   "cell_type": "markdown",
   "id": "2a8e9505",
   "metadata": {},
   "source": [
    "## Question 1.\tPython program to add two numbers\n",
    "\n"
   ]
  },
  {
   "cell_type": "code",
   "execution_count": 2,
   "id": "94db056f",
   "metadata": {},
   "outputs": [
    {
     "name": "stdout",
     "output_type": "stream",
     "text": [
      "Enter number 1 : 1\n",
      "Enter number 2 : 2\n",
      "3\n"
     ]
    }
   ],
   "source": [
    "num1 = int(input(\"Enter number 1 : \"))\n",
    "num2 = int(input(\"Enter number 2 : \"))\n",
    "\n",
    "sums = num1+num2\n",
    "\n",
    "print(sums)"
   ]
  },
  {
   "cell_type": "markdown",
   "id": "04f077a5",
   "metadata": {},
   "source": [
    "## Question 2.Maximum of two numbers in Python\n"
   ]
  },
  {
   "cell_type": "code",
   "execution_count": 6,
   "id": "de8dcf82",
   "metadata": {},
   "outputs": [
    {
     "name": "stdout",
     "output_type": "stream",
     "text": [
      "Enter number 1 : 34\n",
      "Enter number 2 : 54\n",
      "The number 54 is greater than number 34\n"
     ]
    }
   ],
   "source": [
    "num3 = int(input(\"Enter number 1 : \"))\n",
    "num4 = int(input(\"Enter number 2 : \"))\n",
    "\n",
    "if num3 > num4:\n",
    "    print(f\"The number {num3} is greater than number {num4}\")\n",
    "    \n",
    "\n",
    "if num4 > num3:\n",
    "    print(f\"The number {num4} is greater than number {num3}\")"
   ]
  },
  {
   "cell_type": "markdown",
   "id": "1efa765f",
   "metadata": {},
   "source": [
    "## Question 3.\tPython Program for factorial of a number\n"
   ]
  },
  {
   "cell_type": "code",
   "execution_count": 8,
   "id": "053d1d5c",
   "metadata": {},
   "outputs": [
    {
     "name": "stdout",
     "output_type": "stream",
     "text": [
      "Enter number : 6\n",
      "The factorial of 6 is 720\n"
     ]
    }
   ],
   "source": [
    "num = int(input(\"Enter number : \"))\n",
    "\n",
    "factorial = 1\n",
    "\n",
    "\n",
    "if num < 0:\n",
    "   print(\"Sorry, factorial does not exist for negative numbers\")\n",
    "elif num == 0:\n",
    "   print(\"The factorial of 0 is 1\")\n",
    "else:\n",
    "   for i in range(1,num + 1):\n",
    "       factorial = factorial*i\n",
    "   print(\"The factorial of\",num,\"is\",factorial)"
   ]
  },
  {
   "cell_type": "markdown",
   "id": "33404611",
   "metadata": {},
   "source": [
    "## 4.\tPython Program for simple interest\n"
   ]
  },
  {
   "cell_type": "code",
   "execution_count": 10,
   "id": "2594116c",
   "metadata": {},
   "outputs": [
    {
     "name": "stdout",
     "output_type": "stream",
     "text": [
      "Enter Principle Amount : 100\n",
      "Enter intrest rate : 1\n",
      "Enter time : 1\n",
      "Total Simple intrest is : 1.0 \n"
     ]
    }
   ],
   "source": [
    "pri = int(input(\"Enter Principle Amount : \"))\n",
    "inti = int(input(\"Enter intrest rate : \"))\n",
    "time = int(input(\"Enter time : \"))\n",
    "           \n",
    "si = (pri*inti*time)/100\n",
    "\n",
    "           \n",
    "print(f\"Total Simple intrest is : {si} \")"
   ]
  },
  {
   "cell_type": "markdown",
   "id": "d34f4a13",
   "metadata": {},
   "source": [
    "## 5.\tPython Program for compound interest\n"
   ]
  },
  {
   "cell_type": "code",
   "execution_count": 2,
   "id": "dcb67c1a",
   "metadata": {},
   "outputs": [
    {
     "name": "stdout",
     "output_type": "stream",
     "text": [
      "Enter the principal amount: 12\n",
      "Enter the rate of interest: 2\n",
      "Enter the time period in years: 1\n",
      "The final amount after compound interest is applied is: 12.24\n"
     ]
    }
   ],
   "source": [
    "\n",
    "principal = float(input(\"Enter the principal amount: \"))\n",
    "rate = float(input(\"Enter the rate of interest: \"))\n",
    "time = float(input(\"Enter the time period in years: \"))\n",
    "\n",
    "\n",
    "n = 12 # compound monthly\n",
    "A = principal * (1 + (rate/(n*100)))**(n*time)\n",
    "\n",
    "print(\"The final amount after compound interest is applied is:\", round(A, 2))\n"
   ]
  },
  {
   "cell_type": "markdown",
   "id": "f5bc28d2",
   "metadata": {},
   "source": [
    "## 6.\tPython Program to check Armstrong Number\n"
   ]
  },
  {
   "cell_type": "code",
   "execution_count": 3,
   "id": "c75e2e08",
   "metadata": {},
   "outputs": [
    {
     "name": "stdout",
     "output_type": "stream",
     "text": [
      "Enter a number: 14314\n",
      "14314 is not an Armstrong number\n"
     ]
    }
   ],
   "source": [
    "\n",
    "num = int(input(\"Enter a number: \"))\n",
    "\n",
    "\n",
    "num_of_digits = len(str(num))\n",
    "\n",
    "sum = 0\n",
    "\n",
    "\n",
    "temp = num\n",
    "\n",
    "\n",
    "while temp > 0:\n",
    "    digit = temp % 10\n",
    "    sum += digit ** num_of_digits\n",
    "    temp //= 10\n",
    "\n",
    "\n",
    "if num == sum:\n",
    "    print(num, \"is an Armstrong number\")\n",
    "else:\n",
    "    print(num, \"is not an Armstrong number\")\n"
   ]
  },
  {
   "cell_type": "markdown",
   "id": "d30c6f3c",
   "metadata": {},
   "source": [
    "## 7.\tPython Program for Program to find area of a circle\n"
   ]
  },
  {
   "cell_type": "code",
   "execution_count": 4,
   "id": "76c4ed03",
   "metadata": {},
   "outputs": [
    {
     "name": "stdout",
     "output_type": "stream",
     "text": [
      "Enter the radius of the circle: 23\n",
      "The area of the circle is: 1661.90111\n"
     ]
    }
   ],
   "source": [
    "\n",
    "radius = float(input(\"Enter the radius of the circle: \"))\n",
    "\n",
    "\n",
    "pi = 3.14159\n",
    "area = pi * (radius ** 2)\n",
    "\n",
    "\n",
    "print(\"The area of the circle is:\", area)\n"
   ]
  },
  {
   "cell_type": "markdown",
   "id": "1a8ead25",
   "metadata": {},
   "source": [
    "## 8.\tPython program to print all Prime numbers in an Interval\n"
   ]
  },
  {
   "cell_type": "code",
   "execution_count": 5,
   "id": "74e2ff11",
   "metadata": {},
   "outputs": [
    {
     "name": "stdout",
     "output_type": "stream",
     "text": [
      "Enter the lower limit of the interval: 22\n",
      "Enter the upper limit of the interval: 321\n",
      "Prime numbers between 22 and 321 are:\n",
      "23\n",
      "29\n",
      "31\n",
      "37\n",
      "41\n",
      "43\n",
      "47\n",
      "53\n",
      "59\n",
      "61\n",
      "67\n",
      "71\n",
      "73\n",
      "79\n",
      "83\n",
      "89\n",
      "97\n",
      "101\n",
      "103\n",
      "107\n",
      "109\n",
      "113\n",
      "127\n",
      "131\n",
      "137\n",
      "139\n",
      "149\n",
      "151\n",
      "157\n",
      "163\n",
      "167\n",
      "173\n",
      "179\n",
      "181\n",
      "191\n",
      "193\n",
      "197\n",
      "199\n",
      "211\n",
      "223\n",
      "227\n",
      "229\n",
      "233\n",
      "239\n",
      "241\n",
      "251\n",
      "257\n",
      "263\n",
      "269\n",
      "271\n",
      "277\n",
      "281\n",
      "283\n",
      "293\n",
      "307\n",
      "311\n",
      "313\n",
      "317\n"
     ]
    }
   ],
   "source": [
    "\n",
    "lower = int(input(\"Enter the lower limit of the interval: \"))\n",
    "upper = int(input(\"Enter the upper limit of the interval: \"))\n",
    "\n",
    "print(\"Prime numbers between\", lower, \"and\", upper, \"are:\")\n",
    "\n",
    "for num in range(lower, upper+1):\n",
    "\n",
    "    if num > 1:\n",
    "        # Check for factors\n",
    "        for i in range(2, num):\n",
    "            if (num % i) == 0:\n",
    "                break\n",
    "        else:\n",
    "            print(num)\n"
   ]
  },
  {
   "cell_type": "markdown",
   "id": "c50e2117",
   "metadata": {},
   "source": [
    "## 9.\tPython program to check whether a number is Prime or not\n"
   ]
  },
  {
   "cell_type": "code",
   "execution_count": 6,
   "id": "8d36a3e1",
   "metadata": {},
   "outputs": [
    {
     "name": "stdout",
     "output_type": "stream",
     "text": [
      "Enter a number: 1231\n",
      "1231 is a prime number\n"
     ]
    }
   ],
   "source": [
    "\n",
    "num = int(input(\"Enter a number: \"))\n",
    "\n",
    "\n",
    "if num > 1:\n",
    "\n",
    "    for i in range(2, num):\n",
    "        if (num % i) == 0:\n",
    "            print(num, \"is not a prime number\")\n",
    "            break\n",
    "    else:\n",
    "        print(num, \"is a prime number\")\n",
    "\n",
    "else:\n",
    "    print(num, \"is not a prime number\")\n"
   ]
  },
  {
   "cell_type": "markdown",
   "id": "b9af7e39",
   "metadata": {},
   "source": [
    "## 10.\tPython Program for n-th Fibonacci number\n"
   ]
  },
  {
   "cell_type": "code",
   "execution_count": 7,
   "id": "b67059f5",
   "metadata": {},
   "outputs": [
    {
     "name": "stdout",
     "output_type": "stream",
     "text": [
      "Enter the value of n: 324\n",
      "The 324 th Fibonacci number is: 23041483585524168262220906489642018075101617466780496790573690289968\n"
     ]
    }
   ],
   "source": [
    "n = int(input(\"Enter the value of n: \"))\n",
    "\n",
    "a, b = 0, 1\n",
    "\n",
    "\n",
    "for i in range(n):\n",
    "    a, b = b, a + b\n",
    "\n",
    "\n",
    "print(\"The\", n, \"th Fibonacci number is:\", a)\n"
   ]
  },
  {
   "cell_type": "markdown",
   "id": "d5f9d672",
   "metadata": {},
   "source": [
    "## 11.\tPython Program for How to check if a given number is Fibonacci number?\n"
   ]
  },
  {
   "cell_type": "code",
   "execution_count": 8,
   "id": "bad20d16",
   "metadata": {},
   "outputs": [
    {
     "name": "stdout",
     "output_type": "stream",
     "text": [
      "Enter a number: 231\n",
      "231 is not a Fibonacci number\n"
     ]
    }
   ],
   "source": [
    "num = int(input(\"Enter a number: \"))\n",
    "\n",
    "\n",
    "a, b = 0, 1\n",
    "\n",
    "\n",
    "while b < num:\n",
    "    a, b = b, a + b\n",
    "\n",
    "\n",
    "if num == a or num == b:\n",
    "    print(num, \"is a Fibonacci number\")\n",
    "else:\n",
    "    print(num, \"is not a Fibonacci number\")\n"
   ]
  },
  {
   "cell_type": "markdown",
   "id": "c4673598",
   "metadata": {},
   "source": [
    "## 12.\tPython Program for n\\’th multiple of a number in Fibonacci Series\n"
   ]
  },
  {
   "cell_type": "code",
   "execution_count": 9,
   "id": "4d7960f0",
   "metadata": {},
   "outputs": [
    {
     "name": "stdout",
     "output_type": "stream",
     "text": [
      "Enter a number: 342\n",
      "Enter the value of n: 234\n",
      "The 234 th multiple of 342 in the Fibonacci series is: 785080718342165960415529683777752143073572058845010028889790947790536120787262203674070566629228866961777762946690748155027938521052803313650775112587051963118245144549329443912564102411720925652164206080102605795220137944974479454435262036039848728957068786538462806519855969615328768498343194792473571342819622501502725776400801515858246876826224662334028254498680916810640833204787650576005966759883166955427507371659579795837856888973697636635633780663887812948305053331374563117782051019521616184276505663355212568620740307153608904156201658739595579860960508269144819012061095697209\n"
     ]
    }
   ],
   "source": [
    "\n",
    "num = int(input(\"Enter a number: \"))\n",
    "n = int(input(\"Enter the value of n: \"))\n",
    "\n",
    "\n",
    "a, b = 0, 1\n",
    "\n",
    "for i in range(n-1):\n",
    "    a, b = b, a + b*num\n",
    "\n",
    "\n",
    "print(\"The\", n, \"th multiple of\", num, \"in the Fibonacci series is:\", a)\n"
   ]
  },
  {
   "cell_type": "markdown",
   "id": "118bb78a",
   "metadata": {},
   "source": [
    "## 13.\tProgram to print ASCII Value of a character\n"
   ]
  },
  {
   "cell_type": "code",
   "execution_count": null,
   "id": "d8d0a89b",
   "metadata": {},
   "outputs": [],
   "source": []
  },
  {
   "cell_type": "markdown",
   "id": "f9780302",
   "metadata": {},
   "source": [
    "## 14.\tPython Program for Sum of squares of first n natural numbers\n"
   ]
  },
  {
   "cell_type": "code",
   "execution_count": 10,
   "id": "0ea949d1",
   "metadata": {},
   "outputs": [
    {
     "name": "stdout",
     "output_type": "stream",
     "text": [
      "Enter the value of n: 342\n",
      "The sum of squares of the first 342 natural numbers is: 13392435\n"
     ]
    }
   ],
   "source": [
    "\n",
    "n = int(input(\"Enter the value of n: \"))\n",
    "\n",
    "\n",
    "sum_of_squares = 0\n",
    "\n",
    "for i in range(1, n+1):\n",
    "    sum_of_squares += i**2\n",
    "\n",
    "\n",
    "print(\"The sum of squares of the first\", n, \"natural numbers is:\", sum_of_squares)\n"
   ]
  },
  {
   "cell_type": "markdown",
   "id": "9b61fe88",
   "metadata": {},
   "source": [
    "## 15.\tPython Program for cube sum of first n natural numbers"
   ]
  },
  {
   "cell_type": "code",
   "execution_count": 11,
   "id": "47eb1556",
   "metadata": {},
   "outputs": [
    {
     "name": "stdout",
     "output_type": "stream",
     "text": [
      "Enter the value of n: 45\n",
      "The sum of cubes of the first 45 natural numbers is: 1071225\n"
     ]
    }
   ],
   "source": [
    "\n",
    "n = int(input(\"Enter the value of n: \"))\n",
    "\n",
    "\n",
    "cube_sum = 0\n",
    "\n",
    "for i in range(1, n+1):\n",
    "    cube_sum += i**3\n",
    "print(\"The sum of cubes of the first\", n, \"natural numbers is:\", cube_sum)\n"
   ]
  },
  {
   "cell_type": "code",
   "execution_count": null,
   "id": "87441357",
   "metadata": {},
   "outputs": [],
   "source": []
  }
 ],
 "metadata": {
  "kernelspec": {
   "display_name": "Python 3 (ipykernel)",
   "language": "python",
   "name": "python3"
  },
  "language_info": {
   "codemirror_mode": {
    "name": "ipython",
    "version": 3
   },
   "file_extension": ".py",
   "mimetype": "text/x-python",
   "name": "python",
   "nbconvert_exporter": "python",
   "pygments_lexer": "ipython3",
   "version": "3.10.9"
  }
 },
 "nbformat": 4,
 "nbformat_minor": 5
}
