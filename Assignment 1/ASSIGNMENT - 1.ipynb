{
 "cells": [
  {
   "cell_type": "markdown",
   "id": "8d56e3dc",
   "metadata": {},
   "source": [
    "## Question 1. In the below elements which of them are values or an expression? eg:- values can be integer or string and expressions will be mathematical operators.\n",
    "\n",
    "# ‘VGU’\n",
    "# -89.5\n",
    "# -\n",
    "# /\n",
    "# +\n",
    "# 6\n"
   ]
  },
  {
   "cell_type": "markdown",
   "id": "b1935263",
   "metadata": {},
   "source": [
    "## Solution 1.\n",
    "\n",
    "# Values :\n",
    "\n",
    "'VGU'\n",
    "\n",
    "-89.5\n",
    "\n",
    "6\n",
    "\n",
    "# Expression :\n",
    "\n",
    "*\n",
    "\n",
    "-\n",
    "\n",
    "/\n",
    "\n",
    "+"
   ]
  },
  {
   "cell_type": "markdown",
   "id": "f4cb0176",
   "metadata": {},
   "source": [
    "# Question2. What is the difference between string and variable?"
   ]
  },
  {
   "cell_type": "markdown",
   "id": "d25533d2",
   "metadata": {},
   "source": [
    "String :\n",
    "   \n",
    "    A string is a data type for a sequence of characters\n",
    "    \n",
    "    Strings can include letters, numbers, spaces, punctuation, and even line breaks (using ‘\\n’ for new line)\n",
    "    \n",
    "    Strings are defined by putting single quotes (‘ ’) or double quotes (“ “) around whatever you want to classify         as a string.\n",
    "    \n",
    "    Strings cannot be used for calculation (even if your string is just a number like ‘5’), you would have to             convert it to a number data type first to perform math operations on it.\n",
    "    \n",
    "    The string data type is primarily used for reading and writing data\n",
    "    \n",
    "Variable :\n",
    "    \n",
    "    a variable is a symbol that you can use to store data in a program.\n",
    "    \n",
    "    variables can store any type of data including strings.\n",
    "    \n",
    "    Variables are created when you first assign a value to it in your program.\n",
    "\n",
    "    Variables can store any type of data including numbers that can be used for calculations.\n",
    "    \n",
    "    Variables can be used to store and manipulate any type of data.\n",
    "    "
   ]
  },
  {
   "cell_type": "markdown",
   "id": "f5de43b1",
   "metadata": {},
   "source": [
    "# Question3. Describe three different data types."
   ]
  },
  {
   "cell_type": "markdown",
   "id": "dc2c4fdd",
   "metadata": {},
   "source": [
    "Solution:\n",
    "\n",
    "Python has different builtin data types as follows:\n",
    "\n",
    "1.Numeric\n",
    "\n",
    "2.String\n",
    "\n",
    "3.Boolean\n",
    "\n",
    "Numeric: This includes data types like int (integers), float (floating point numbers), and complex (complex numbers). These data types represent numeric values and can be used for mathematical operations.\n",
    "\n",
    "String: This is a sequence of characters enclosed in single or double quotes. Strings can include letters, numbers, spaces, punctuation, and even line breaks (using ‘\\n’ for new line). They are primarily used for reading and writing data.\n",
    "\n",
    "Boolean: This includes two values: True and False. These values are used to represent truth values and can be used in logical expressions."
   ]
  },
  {
   "cell_type": "markdown",
   "id": "c758853f",
   "metadata": {},
   "source": [
    "# Question 4. What is an expression made up of? What do all expressions do?\n"
   ]
  },
  {
   "cell_type": "markdown",
   "id": "49a30a47",
   "metadata": {},
   "source": [
    "# Solution4\n",
    "\n",
    "\n",
    "An expression in Python is made up of one or more values, variables, and operators that can be combined in a way that Python can evaluate to produce a single value. \n",
    "\n",
    "All expressions in Python have a value, which is the result of evaluating the expression. This value can be a number, a string, a Boolean value, or any other type of object in Python. \n",
    "\n",
    "Expressions in Python can be categorized into several types:\n",
    "\n",
    "Arithmetic expressions: These are expressions that involve arithmetic operators such as +, -, *, /, % (modulus), and // (floor division)\n",
    "\n",
    "Comparison expressions: These are expressions that compare two values using comparison operators such as <, >, <=, >=, ==, and != \n",
    "\n",
    "\n",
    "Logical expressions: These are expressions that combine Boolean values using logical operators such as and, or, and not.\n",
    "\n",
    "\n",
    "Conditional expressions: These are expressions that use a ternary operator to return a value based on a condition.\n"
   ]
  },
  {
   "cell_type": "markdown",
   "id": "261b1ff6",
   "metadata": {},
   "source": [
    "# Question 5. This assignment statements, like spam = 10. What is the difference between an expression and a statement?"
   ]
  },
  {
   "cell_type": "markdown",
   "id": "c4d45839",
   "metadata": {},
   "source": [
    "## solution\n",
    "Expressions and statements differ primarily in that an expression always has a value, whereas a statement might or might not yield one. The majority of statements in Python, including assignment statements, have no effect on the result.\n",
    "\n",
    "Expression\n",
    "x = 2 + 3\n",
    "print(x) # Output: 5\n",
    "\n",
    "Statenment\n",
    "if x > 10:\n",
    "    print(\"x is greater than 10\")\n"
   ]
  },
  {
   "cell_type": "markdown",
   "id": "6bb14208",
   "metadata": {},
   "source": [
    "# Question 6.After running the following code, what does the variable bacon contain?\n",
    "## bacon = 22\n",
    "## bacon + 1"
   ]
  },
  {
   "cell_type": "markdown",
   "id": "f6235196",
   "metadata": {},
   "source": [
    "# Solution \n",
    "23\n"
   ]
  },
  {
   "cell_type": "markdown",
   "id": "adb9b5e6",
   "metadata": {},
   "source": [
    "# Question 7. What should the values of the following two terms be?\n",
    "\n",
    "'spam' + 'spamspam'\n",
    "\n",
    "'spam' * 3\n"
   ]
  },
  {
   "cell_type": "markdown",
   "id": "c0437c7c",
   "metadata": {},
   "source": [
    "## SOLUTION\n",
    "\n",
    "For the 1 one the output will be\n",
    "\n",
    "spamspamspam\n",
    "\n",
    "For the 2 one the output will be\n",
    "\n",
    "spamspamspam\n"
   ]
  },
  {
   "cell_type": "markdown",
   "id": "c1d8f8d1",
   "metadata": {},
   "source": [
    "# Question 8. Why dorito is a valid variable name while 78 is invalid?\n"
   ]
  },
  {
   "cell_type": "markdown",
   "id": "71648925",
   "metadata": {},
   "source": [
    "# Question 9. What three functions can be used to get the integer, floating-point number, or string version of a value?"
   ]
  },
  {
   "cell_type": "markdown",
   "id": "9eca8720",
   "metadata": {},
   "source": [
    "# Question 10. Why does this expression cause an error? How can you fix it?\n",
    "\n",
    "## 'I have eaten ' + 99 + ' burritos.' "
   ]
  },
  {
   "cell_type": "markdown",
   "id": "81457ad6",
   "metadata": {},
   "source": [
    "## Solution\n",
    "\n",
    "Here this statenemt is showing error because the differnt type of data type included in one line by changing the data type of one the problem will be solved \n",
    "\n",
    "for ex.\n",
    "\n",
    "'I have eaten ' + '99' + ' burritos.' \n"
   ]
  },
  {
   "cell_type": "markdown",
   "id": "be398fb1",
   "metadata": {},
   "source": [
    "# Question 11. Write code that \n",
    "## prints Hello if 1 is stored in spam, \n",
    "## prints Howdy if 2 is stored in spam,\n",
    "## prints Greetings! if anything else is stored in spam."
   ]
  },
  {
   "cell_type": "markdown",
   "id": "76fdc0be",
   "metadata": {},
   "source": [
    "## Solution"
   ]
  },
  {
   "cell_type": "code",
   "execution_count": 5,
   "id": "401305d6",
   "metadata": {},
   "outputs": [
    {
     "name": "stdout",
     "output_type": "stream",
     "text": [
      "Enter Number :5\n",
      "Greetings!\n"
     ]
    }
   ],
   "source": [
    "\n",
    "num = int(input(\"Enter Number :\"))\n",
    "\n",
    "if num == 1:\n",
    "    print(\"Hello\")\n",
    "if num == 2:\n",
    "    print(\"Howdy\")\n",
    "if num >2:\n",
    "    print(\"Greetings!\")"
   ]
  },
  {
   "cell_type": "markdown",
   "id": "3eb36857",
   "metadata": {},
   "source": [
    "# Question 12. If your programme is stuck in an endless loop, what keys you’ll press?"
   ]
  },
  {
   "cell_type": "markdown",
   "id": "5bec2900",
   "metadata": {},
   "source": [
    "## solution \n",
    "\n",
    "for mac\n",
    "\n",
    "cmd+c\n",
    "\n",
    "for windows\n",
    "\n",
    "ctrl+c"
   ]
  },
  {
   "cell_type": "markdown",
   "id": "77b18202",
   "metadata": {},
   "source": [
    "# Question 13. How can you tell the difference between break and continue?"
   ]
  },
  {
   "cell_type": "markdown",
   "id": "33930233",
   "metadata": {},
   "source": [
    "## solution\n",
    "Break will stop the exectution of the code but continue will skip the part of loop where this function is applied"
   ]
  },
  {
   "cell_type": "markdown",
   "id": "55cbe195",
   "metadata": {},
   "source": [
    "# Question 14 In a for loop, what is the difference between range(10), range(0, 10), and range(0, 10, 1)?\n"
   ]
  },
  {
   "cell_type": "markdown",
   "id": "3ebd60a1",
   "metadata": {},
   "source": [
    "## Solution\n",
    "\n",
    "### range(10) and range(0,10)\n",
    "### there is no difference as python will assume range(10) as range(0,10) as the input so the output for both case will be same as both will print from 0 to 9\n",
    "\n",
    "### but in case of range(0,10,1)\n",
    "### the result will be same but here we are using all the functionality of this range function as range(a,b,c)\n",
    "### Here \n",
    "\t a denotes the starting of loop\n",
    "     b denotes the ending of the loop\n",
    "     c how much gap or how much step in between the next output\n",
    "     \n",
    "### so the result of this expression will be same as this will print from 0 to 9."
   ]
  },
  {
   "cell_type": "markdown",
   "id": "66bfd3e5",
   "metadata": {},
   "source": [
    "# Question 15. Write a short program that prints the numbers 1 to 10 using a for loop. Then write an equivalent program that prints the numbers 1 to 10 using a while loop."
   ]
  },
  {
   "cell_type": "code",
   "execution_count": 15,
   "id": "77796c2a",
   "metadata": {},
   "outputs": [
    {
     "name": "stdout",
     "output_type": "stream",
     "text": [
      "Enter a number :1\n",
      "1\n",
      "2\n",
      "3\n",
      "4\n",
      "5\n",
      "6\n",
      "7\n",
      "8\n",
      "9\n",
      "10\n"
     ]
    }
   ],
   "source": [
    "num1 = int(input(\"Enter a number :\"))\n",
    "\n",
    "while num1>=1 and num1<11:\n",
    "    print(num1)\n",
    "    num1+=1"
   ]
  },
  {
   "cell_type": "markdown",
   "id": "184eb796",
   "metadata": {},
   "source": [
    "# Question 16. If you had a function named bacon() inside a module named spam, how would you call it after importing spam? What statement creates a function?"
   ]
  },
  {
   "cell_type": "markdown",
   "id": "7734c082",
   "metadata": {},
   "source": [
    "# Question 17. What is the difference between a function and a function call?"
   ]
  },
  {
   "cell_type": "markdown",
   "id": "fe0cfb71",
   "metadata": {},
   "source": [
    "## Solution \n",
    "\n",
    "a function is a block of code that performs a specific task and can be reused throughout a program. It is defined using the def keyword followed by the function name, a set of parentheses, and a colon. The function may or may not accept input arguments, and it may or may not return a value.\n",
    "\n",
    "a function call is an instruction that tells the program to execute the code inside a function. To call a function in Python, you need to write the name of the function followed by a set of parentheses that may or may not contain arguments. When a function is called, the program executes the code inside the function block, and any output generated by the function is returned to the calling code."
   ]
  },
  {
   "cell_type": "markdown",
   "id": "50272c16",
   "metadata": {},
   "source": [
    "# Question 18. How many global scopes are there in a Python program? How many local scopes?"
   ]
  },
  {
   "cell_type": "markdown",
   "id": "d19d4722",
   "metadata": {},
   "source": [
    "there is only one global scope per program. which objects (variables, functions, classes, etc.) are defined at the module level. Any object defined in the global scope can be accessed from anywhere in the program.\n",
    "\n",
    "There can be multiple local scopes in a Python program. A local scope is created whenever a function is called, and it exists only for the duration of that function call. Objects defined within a local scope are not accessible outside that function, and they are destroyed when the function returns."
   ]
  },
  {
   "cell_type": "markdown",
   "id": "fd63bb9f",
   "metadata": {},
   "source": [
    "# Question 20. What is the concept of a return value? Is it possible to have a return value in an expression?\n"
   ]
  },
  {
   "cell_type": "markdown",
   "id": "f1ef3ef6",
   "metadata": {},
   "source": [
    "## solution \n",
    "A return value is the value that a function returns to its caller after it has finished executing. When a function is called, it may perform some operations on the input arguments and/or internal variables, and then return a result using the return statement. The return value can be a number, string, boolean, list, tuple, dictionary, or any other Python object."
   ]
  },
  {
   "cell_type": "markdown",
   "id": "3855bc58",
   "metadata": {},
   "source": [
    "# Question 23. What is the data type of None?"
   ]
  },
  {
   "cell_type": "markdown",
   "id": "734d1a68",
   "metadata": {},
   "source": [
    "## solution\n",
    "\n",
    "None is a built-in constant that represents the absence of a value or a null value. It is often used as a placeholder when you need to represent the absence of a value or as a default return value for a function that does not return anything else.\n",
    "\n",
    "None is a singleton object in Python, which means that there is only one instance of it in memory, and any reference to None points to the same object. It is an instance of the NoneType class, which is a built-in data type in Python that has only one value, None."
   ]
  },
  {
   "cell_type": "markdown",
   "id": "c60281eb",
   "metadata": {},
   "source": [
    "# Question 28. What exactly is []?"
   ]
  },
  {
   "cell_type": "markdown",
   "id": "85de0016",
   "metadata": {},
   "source": [
    "## solution \n",
    "\n",
    "In Python, [] is an empty list literal that creates an empty list object. A list is a built-in data type in Python that represents a collection of elements, such as numbers, strings, or other Python objects. Lists are ordered, mutable, and can contain elements of different data types."
   ]
  },
  {
   "cell_type": "markdown",
   "id": "d6a2981f",
   "metadata": {},
   "source": [
    "# Question 29. In a list of values stored in a variable called spam, how would you assign the value 'hello' as the third value? (Assume [2, 4, 6, 8, 10] are in spam.)"
   ]
  },
  {
   "cell_type": "code",
   "execution_count": 16,
   "id": "b2d4f626",
   "metadata": {},
   "outputs": [
    {
     "name": "stdout",
     "output_type": "stream",
     "text": [
      "[2, 4, 'hello', 8, 10]\n"
     ]
    }
   ],
   "source": [
    "spam = [2, 4, 6, 8, 10]     # list of values\n",
    "\n",
    "spam[2] = 'hello'           # assign 'hello' as the third value (index 2)\n",
    "\n",
    "print(spam)                 # Output: [2, 4, 'hello', 8, 10]\n"
   ]
  },
  {
   "cell_type": "markdown",
   "id": "69b710dd",
   "metadata": {},
   "source": [
    "# Question 30. Let's pretend the spam includes the list ['a', 'b', 'c', 'd'] for the next three queries."
   ]
  },
  {
   "cell_type": "code",
   "execution_count": null,
   "id": "ada35bb5",
   "metadata": {},
   "outputs": [],
   "source": []
  }
 ],
 "metadata": {
  "kernelspec": {
   "display_name": "Python 3 (ipykernel)",
   "language": "python",
   "name": "python3"
  },
  "language_info": {
   "codemirror_mode": {
    "name": "ipython",
    "version": 3
   },
   "file_extension": ".py",
   "mimetype": "text/x-python",
   "name": "python",
   "nbconvert_exporter": "python",
   "pygments_lexer": "ipython3",
   "version": "3.9.13"
  }
 },
 "nbformat": 4,
 "nbformat_minor": 5
}
